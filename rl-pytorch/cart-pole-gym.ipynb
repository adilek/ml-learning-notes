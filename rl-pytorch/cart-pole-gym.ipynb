{
 "cells": [
  {
   "cell_type": "code",
   "execution_count": 2,
   "metadata": {},
   "outputs": [],
   "source": [
    "import gym\n",
    "import gym.spaces\n",
    "import math\n",
    "import random\n",
    "import numpy as np\n",
    "import matplotlib\n",
    "import matplotlib.pyplot as plt\n",
    "from collections import namedtuple\n",
    "from itertools import count\n",
    "from PIL import Image\n",
    "\n",
    "import torch\n",
    "import torch.nn as nn\n",
    "import torch.optim as optim\n",
    "import torch.nn.functional as F\n",
    "import torchvision.transforms as T\n",
    "from torch.autograd import Variable\n",
    "\n",
    "from IPython import display\n",
    "from collections import deque"
   ]
  },
  {
   "cell_type": "code",
   "execution_count": 19,
   "metadata": {},
   "outputs": [
    {
     "name": "stdout",
     "output_type": "stream",
     "text": [
      "\u001b[33mWARN: gym.spaces.Box autodetected dtype as <class 'numpy.float32'>. Please provide explicit dtype.\u001b[0m\n"
     ]
    }
   ],
   "source": [
    "n_episodes = 100\n",
    "batch_size = 32\n",
    "gamma = 0.95\n",
    "env = gym.make('CartPole-v1')\n",
    "state_size = env.observation_space.shape[0]\n",
    "action_size = env.action_space.n"
   ]
  },
  {
   "cell_type": "code",
   "execution_count": 20,
   "metadata": {},
   "outputs": [],
   "source": [
    "layers = []\n",
    "layers.append(nn.Linear(state_size, 24))\n",
    "layers.append(nn.ReLU())\n",
    "layers.append(nn.Linear(24,24))\n",
    "layers.append(nn.ReLU())\n",
    "layers.append(nn.Linear(24, action_size))\n",
    "net = nn.Sequential(*layers).double()"
   ]
  },
  {
   "cell_type": "code",
   "execution_count": 21,
   "metadata": {},
   "outputs": [],
   "source": [
    "learning_rate = 0.001\n",
    "epsilon_decay = 0.995\n",
    "epsilon = 1.0\n",
    "epsilon_min = 0.01"
   ]
  },
  {
   "cell_type": "code",
   "execution_count": 22,
   "metadata": {},
   "outputs": [],
   "source": [
    "optimizer = optim.Adam(net.parameters(), lr=learning_rate)"
   ]
  },
  {
   "cell_type": "code",
   "execution_count": 23,
   "metadata": {},
   "outputs": [
    {
     "data": {
      "text/plain": [
       "Adam (\n",
       "Parameter Group 0\n",
       "    amsgrad: False\n",
       "    betas: (0.9, 0.999)\n",
       "    eps: 1e-08\n",
       "    lr: 0.001\n",
       "    weight_decay: 0\n",
       ")"
      ]
     },
     "execution_count": 23,
     "metadata": {},
     "output_type": "execute_result"
    }
   ],
   "source": [
    "optimizer"
   ]
  },
  {
   "cell_type": "code",
   "execution_count": 24,
   "metadata": {},
   "outputs": [],
   "source": [
    "replay_memory = deque(maxlen=2000)"
   ]
  },
  {
   "cell_type": "code",
   "execution_count": 25,
   "metadata": {},
   "outputs": [],
   "source": [
    "criterion = nn.MSELoss()"
   ]
  },
  {
   "cell_type": "code",
   "execution_count": 26,
   "metadata": {},
   "outputs": [],
   "source": [
    "def act(state):\n",
    "    global epsilon\n",
    "    if np.random.rand() <= epsilon:\n",
    "        return random.randrange(action_size)\n",
    "    state_tensor = Variable(torch.from_numpy(state))#.float()\n",
    "    act_values = net(state_tensor).data.numpy()\n",
    "    return np.argmax(act_values[0])"
   ]
  },
  {
   "cell_type": "code",
   "execution_count": 27,
   "metadata": {},
   "outputs": [],
   "source": [
    "def remember(state, action, reward, next_state, done):\n",
    "    replay_memory.append((state, action, reward, next_state, done))"
   ]
  },
  {
   "cell_type": "code",
   "execution_count": 28,
   "metadata": {},
   "outputs": [],
   "source": [
    "p_rewards = []\n",
    "def replay(batch_size):\n",
    "    minibatch = random.sample(replay_memory, batch_size)\n",
    "    for state, action, reward, next_state, done in minibatch:        \n",
    "        optimizer.zero_grad()   # zero the gradient buffers\n",
    "        output_tensor = Variable(torch.from_numpy(state))#.float()\n",
    "        output = net(output_tensor)        \n",
    "        target = reward\n",
    "        if not done:\n",
    "            next_state_tensor = Variable(torch.from_numpy(next_state))#.float()            \n",
    "            target = reward + gamma * np.amax(net(next_state_tensor).data.numpy())\n",
    "        state_tensor = Variable(torch.from_numpy(state))#.float()\n",
    "        target_f = net(state_tensor).data.numpy()        \n",
    "        target_f[0][action] = target\n",
    "        \n",
    "        target_f = Variable(torch.from_numpy(target_f))#.float()\n",
    "        \n",
    "        loss = criterion(output, target_f)        \n",
    "        loss.backward()\n",
    "        optimizer.step()\n",
    "    global epsilon, epsilon_min, epsilon_decay\n",
    "    if epsilon > epsilon_min:\n",
    "        epsilon *= epsilon_decay"
   ]
  },
  {
   "cell_type": "code",
   "execution_count": null,
   "metadata": {},
   "outputs": [],
   "source": []
  },
  {
   "cell_type": "code",
   "execution_count": null,
   "metadata": {},
   "outputs": [],
   "source": []
  },
  {
   "cell_type": "code",
   "execution_count": null,
   "metadata": {},
   "outputs": [],
   "source": []
  },
  {
   "cell_type": "code",
   "execution_count": null,
   "metadata": {},
   "outputs": [],
   "source": []
  },
  {
   "cell_type": "code",
   "execution_count": 32,
   "metadata": {},
   "outputs": [
    {
     "name": "stdout",
     "output_type": "stream",
     "text": [
      "episode: 0/100, score: 231, e: 0.009986\n",
      "episode: 1/100, score: 250, e: 0.009986\n",
      "episode: 2/100, score: 317, e: 0.009986\n",
      "episode: 3/100, score: 260, e: 0.009986\n",
      "episode: 4/100, score: 51, e: 0.009986\n",
      "episode: 5/100, score: 9, e: 0.009986\n",
      "episode: 6/100, score: 9, e: 0.009986\n",
      "episode: 7/100, score: 8, e: 0.009986\n",
      "episode: 8/100, score: 8, e: 0.009986\n",
      "episode: 9/100, score: 8, e: 0.009986\n",
      "episode: 10/100, score: 7, e: 0.009986\n",
      "episode: 11/100, score: 8, e: 0.009986\n",
      "episode: 12/100, score: 8, e: 0.009986\n",
      "episode: 13/100, score: 8, e: 0.009986\n",
      "episode: 14/100, score: 8, e: 0.009986\n",
      "episode: 15/100, score: 8, e: 0.009986\n",
      "episode: 16/100, score: 8, e: 0.009986\n",
      "episode: 17/100, score: 22, e: 0.009986\n",
      "episode: 18/100, score: 96, e: 0.009986\n",
      "episode: 19/100, score: 116, e: 0.009986\n",
      "episode: 20/100, score: 122, e: 0.009986\n",
      "episode: 21/100, score: 159, e: 0.009986\n",
      "episode: 22/100, score: 197, e: 0.009986\n",
      "episode: 23/100, score: 107, e: 0.009986\n",
      "episode: 24/100, score: 210, e: 0.009986\n",
      "episode: 25/100, score: 189, e: 0.009986\n",
      "episode: 26/100, score: 170, e: 0.009986\n",
      "episode: 27/100, score: 499, e: 0.009986\n",
      "episode: 28/100, score: 229, e: 0.009986\n",
      "episode: 29/100, score: 228, e: 0.009986\n",
      "episode: 30/100, score: 365, e: 0.009986\n",
      "episode: 31/100, score: 85, e: 0.009986\n",
      "episode: 32/100, score: 97, e: 0.009986\n",
      "episode: 33/100, score: 67, e: 0.009986\n",
      "episode: 34/100, score: 24, e: 0.009986\n",
      "episode: 35/100, score: 135, e: 0.009986\n",
      "episode: 36/100, score: 195, e: 0.009986\n",
      "episode: 37/100, score: 263, e: 0.009986\n",
      "episode: 38/100, score: 310, e: 0.009986\n",
      "episode: 39/100, score: 168, e: 0.009986\n",
      "episode: 40/100, score: 254, e: 0.009986\n",
      "episode: 41/100, score: 173, e: 0.009986\n",
      "episode: 42/100, score: 202, e: 0.009986\n",
      "episode: 43/100, score: 178, e: 0.009986\n",
      "episode: 44/100, score: 175, e: 0.009986\n",
      "episode: 45/100, score: 175, e: 0.009986\n",
      "episode: 46/100, score: 185, e: 0.009986\n",
      "episode: 47/100, score: 188, e: 0.009986\n",
      "episode: 48/100, score: 194, e: 0.009986\n",
      "episode: 49/100, score: 177, e: 0.009986\n",
      "episode: 50/100, score: 95, e: 0.009986\n",
      "episode: 51/100, score: 56, e: 0.009986\n",
      "episode: 52/100, score: 147, e: 0.009986\n",
      "episode: 53/100, score: 147, e: 0.009986\n",
      "episode: 54/100, score: 205, e: 0.009986\n",
      "episode: 55/100, score: 167, e: 0.009986\n",
      "episode: 56/100, score: 171, e: 0.009986\n",
      "episode: 57/100, score: 161, e: 0.009986\n",
      "episode: 58/100, score: 51, e: 0.009986\n",
      "episode: 59/100, score: 11, e: 0.009986\n",
      "episode: 60/100, score: 289, e: 0.009986\n",
      "episode: 61/100, score: 198, e: 0.009986\n",
      "episode: 62/100, score: 264, e: 0.009986\n",
      "episode: 63/100, score: 280, e: 0.009986\n",
      "episode: 64/100, score: 289, e: 0.009986\n",
      "episode: 65/100, score: 405, e: 0.009986\n",
      "episode: 66/100, score: 251, e: 0.009986\n",
      "episode: 67/100, score: 499, e: 0.009986\n",
      "episode: 68/100, score: 123, e: 0.009986\n",
      "episode: 69/100, score: 330, e: 0.009986\n",
      "episode: 70/100, score: 351, e: 0.009986\n",
      "episode: 71/100, score: 386, e: 0.009986\n",
      "episode: 72/100, score: 350, e: 0.009986\n",
      "episode: 73/100, score: 11, e: 0.009986\n",
      "episode: 74/100, score: 8, e: 0.009986\n",
      "episode: 75/100, score: 75, e: 0.009986\n",
      "episode: 76/100, score: 228, e: 0.009986\n",
      "episode: 77/100, score: 390, e: 0.009986\n",
      "episode: 78/100, score: 499, e: 0.009986\n",
      "episode: 79/100, score: 279, e: 0.009986\n",
      "episode: 80/100, score: 499, e: 0.009986\n",
      "episode: 81/100, score: 213, e: 0.009986\n",
      "episode: 82/100, score: 248, e: 0.009986\n",
      "episode: 83/100, score: 191, e: 0.009986\n",
      "episode: 84/100, score: 123, e: 0.009986\n",
      "episode: 85/100, score: 11, e: 0.009986\n",
      "episode: 86/100, score: 12, e: 0.009986\n",
      "episode: 87/100, score: 451, e: 0.009986\n",
      "episode: 88/100, score: 293, e: 0.009986\n",
      "episode: 89/100, score: 170, e: 0.009986\n",
      "episode: 90/100, score: 362, e: 0.009986\n",
      "episode: 91/100, score: 333, e: 0.009986\n",
      "episode: 92/100, score: 432, e: 0.009986\n",
      "episode: 93/100, score: 499, e: 0.009986\n",
      "episode: 94/100, score: 159, e: 0.009986\n",
      "episode: 95/100, score: 109, e: 0.009986\n",
      "episode: 96/100, score: 135, e: 0.009986\n",
      "episode: 97/100, score: 69, e: 0.009986\n",
      "episode: 98/100, score: 99, e: 0.009986\n",
      "episode: 99/100, score: 171, e: 0.009986\n"
     ]
    }
   ],
   "source": [
    "for e in range(n_episodes):\n",
    "    state = env.reset()\n",
    "    state = np.reshape(state, [1, state_size])\n",
    "    for time in range(500):\n",
    "        env.render()\n",
    "        action = act(state)\n",
    "        next_state, reward, done, _ = env.step(action)\n",
    "        reward = reward if not done else -10\n",
    "        \n",
    "        next_state = np.reshape(next_state, [1, state_size])\n",
    "        remember(state, action, reward, next_state, done)\n",
    "        state = next_state\n",
    "        if done:\n",
    "            p_rewards.append(time)\n",
    "            print(\"episode: {}/{}, score: {}, e: {:.4}\".format(e, n_episodes, time, epsilon))\n",
    "            break\n",
    "        if len(replay_memory) > batch_size:\n",
    "            replay(batch_size)\n",
    "    #if e % 10 == 0:\n",
    "    #    agent.save(\"./save/model.ckpt\")\n",
    "#agent.play(env, 100)"
   ]
  },
  {
   "cell_type": "code",
   "execution_count": 70,
   "metadata": {},
   "outputs": [
    {
     "data": {
      "image/png": "[encoded data removed]",
      "text/plain": [
       "<Figure size 432x288 with 1 Axes>"
      ]
     },
     "metadata": {},
     "output_type": "display_data"
    }
   ],
   "source": [
    "plt.plot(p_rewards, '-|')\n",
    "plt.xlabel(\"Episode\")\n",
    "plt.ylabel(\"Reward\")\n",
    "plt.show()"
   ]
  },
  {
   "cell_type": "code",
   "execution_count": null,
   "metadata": {},
   "outputs": [],
   "source": []
  },
  {
   "cell_type": "code",
   "execution_count": null,
   "metadata": {},
   "outputs": [],
   "source": []
  },
  {
   "cell_type": "code",
   "execution_count": null,
   "metadata": {},
   "outputs": [],
   "source": []
  },
  {
   "cell_type": "code",
   "execution_count": null,
   "metadata": {},
   "outputs": [],
   "source": []
  },
  {
   "cell_type": "code",
   "execution_count": null,
   "metadata": {},
   "outputs": [],
   "source": []
  },
  {
   "cell_type": "code",
   "execution_count": null,
   "metadata": {},
   "outputs": [],
   "source": []
  },
  {
   "cell_type": "code",
   "execution_count": null,
   "metadata": {},
   "outputs": [],
   "source": []
  },
  {
   "cell_type": "code",
   "execution_count": null,
   "metadata": {},
   "outputs": [],
   "source": []
  }
 ],
 "metadata": {
  "kernelspec": {
   "display_name": "Python 3",
   "language": "python",
   "name": "python3"
  },
  "language_info": {
   "codemirror_mode": {
    "name": "ipython",
    "version": 3
   },
   "file_extension": ".py",
   "mimetype": "text/x-python",
   "name": "python",
   "nbconvert_exporter": "python",
   "pygments_lexer": "ipython3",
   "version": "3.6.6"
  }
 },
 "nbformat": 4,
 "nbformat_minor": 2
}
