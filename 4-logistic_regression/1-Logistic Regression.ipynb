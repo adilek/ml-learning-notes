{
 "cells": [
  {
   "cell_type": "markdown",
   "metadata": {},
   "source": [
    "# Logistic Regression\n",
    "\n",
    "**Logistic regression** is a classification algorithm for categorical variables. It can be used for both binary classification and multi-class classification.\n",
    "\n",
    "In case of binary classification we can use the following notation:\n",
    "\n",
    "$$ X \\in \\mathbb{R}^{m \\times n} $$\n",
    "$$ y \\in {0,1}$$\n",
    "$$\\hat{y} = P(y=1|x)$$\n",
    "$$P(y=0|x) = 1-\\hat{y}$$"
   ]
  },
  {
   "cell_type": "code",
   "execution_count": null,
   "metadata": {},
   "outputs": [],
   "source": []
  }
 ],
 "metadata": {
  "kernelspec": {
   "display_name": "Python 3",
   "language": "python",
   "name": "python3"
  },
  "language_info": {
   "codemirror_mode": {
    "name": "ipython",
    "version": 3
   },
   "file_extension": ".py",
   "mimetype": "text/x-python",
   "name": "python",
   "nbconvert_exporter": "python",
   "pygments_lexer": "ipython3",
   "version": "3.6.5"
  }
 },
 "nbformat": 4,
 "nbformat_minor": 2
}
