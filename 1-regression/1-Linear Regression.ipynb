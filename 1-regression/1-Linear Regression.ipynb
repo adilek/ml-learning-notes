{
 "cells": [
  {
   "cell_type": "markdown",
   "metadata": {},
   "source": [
    "# Linear regression"
   ]
  },
  {
   "cell_type": "markdown",
   "metadata": {},
   "source": [
    "## Overview\n",
    "The purpose of linear regression is to find a fit line that desribes the data. The following picture shows the datapoints and a possible fitline to the data.\n",
    "\n",
    "<img src=\"img1.png\"/>\n",
    "\n",
    "As we see the fitline is straightline and of course it can be expressed using linear equation:\n",
    "\n",
    "$$\\hat{y} = \\theta_0 + \\theta_1 x_1$$\n",
    "\n",
    "Using certaing techniques based on the data we can find bias ($\\theta_0$) and coefficent ($\\theta_1$)."
   ]
  },
  {
   "cell_type": "markdown",
   "metadata": {},
   "source": [
    "## Residual error\n",
    "\n",
    "Residual error is mean of discrepancies between fitline and actual data point:\n",
    "\n",
    "$$MSE={\\frac{1}{n}\\sum_{i=1}^{n}(y_i-\\hat{y}_i)^2}$$\n",
    "\n",
    "The objective of linear regression is to minimize the MSE.\n",
    "\n",
    "Although some scientific libraries contain an API to find a regression, it would be better to know how it is done. It is always good to understand the methods."
   ]
  },
  {
   "cell_type": "markdown",
   "metadata": {},
   "source": [
    "## Method\n",
    "\n",
    "Variance\n",
    "$$\\sigma^2 = \\frac{1}{N-1}\\sum_{i=1}^{N}(x_i-\\bar{x})^2$$\n",
    "\n",
    "$$\\bar{x} = \\frac{1}{n}\\sum_{i=1}^{n}x_i$$\n",
    "\n",
    "Covariance\n",
    "$$cov_{x,y} = \\frac{1}{n}\\sum_{i=1}^{n}(x_i-\\bar{x})(y_i-\\bar{y})$$\n",
    "\n",
    "$$\\bar{y} = \\frac{1}{n}\\sum_{i=1}^{n}y_i$$\n",
    "\n",
    "$$\\theta_1=\\frac{cov_{x,y}}{\\sigma^2}$$\n",
    "\n",
    "$$\\theta_0 = \\bar{y} - \\theta_1\\bar{x}$$"
   ]
  },
  {
   "cell_type": "markdown",
   "metadata": {},
   "source": []
  },
  {
   "cell_type": "code",
   "execution_count": null,
   "metadata": {},
   "outputs": [],
   "source": []
  }
 ],
 "metadata": {
  "kernelspec": {
   "display_name": "Python 3",
   "language": "python",
   "name": "python3"
  },
  "language_info": {
   "codemirror_mode": {
    "name": "ipython",
    "version": 3
   },
   "file_extension": ".py",
   "mimetype": "text/x-python",
   "name": "python",
   "nbconvert_exporter": "python",
   "pygments_lexer": "ipython3",
   "version": "3.6.5"
  }
 },
 "nbformat": 4,
 "nbformat_minor": 2
}
