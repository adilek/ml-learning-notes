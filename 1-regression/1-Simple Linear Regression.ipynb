{
 "cells": [
  {
   "cell_type": "markdown",
   "metadata": {},
   "source": [
    "# Simple Linear Regression"
   ]
  },
  {
   "cell_type": "markdown",
   "metadata": {},
   "source": [
    "## Overview\n",
    "\n",
    "\n",
    "The purpose of linear regression is to find a fit line that describes the data. The following picture shows the data points and a possible fit line to the data.\n",
    "\n",
    "<img src=\"img1.png\"/>\n",
    "\n",
    "As we see the fit line is straight-line and of course it can be expressed using the linear equation:\n",
    "\n",
    "$$\\hat{y} = \\theta_0 + \\theta_1 x_1$$\n",
    "\n",
    "Using certain techniques based on the data we can find bias ($\\theta_0$) and coefficient ($\\theta_1$)."
   ]
  },
  {
   "cell_type": "markdown",
   "metadata": {},
   "source": [
    "## Residual error\n",
    "\n",
    "The residual error is mean of discrepancies between fit line and actual data point:\n",
    "\n",
    "$$MSE={\\frac{1}{n}\\sum_{i=1}^{n}(y_i-\\hat{y}_i)^2}$$\n",
    "\n",
    "The objective of linear regression is to minimize the MSE.\n",
    "\n",
    "Although some scientific libraries contain an API to find a regression, it would be better to know how it is done. It is always good to understand the methods."
   ]
  },
  {
   "cell_type": "markdown",
   "metadata": {},
   "source": [
    "## Method\n",
    "\n",
    "Variance\n",
    "$$\\sigma^2 = \\frac{1}{N-1}\\sum_{i=1}^{N}(x_i-\\bar{x})^2$$\n",
    "\n",
    "$$\\bar{x} = \\frac{1}{n}\\sum_{i=1}^{n}x_i$$\n",
    "\n",
    "Covariance\n",
    "$$cov_{x,y} = \\frac{1}{n}\\sum_{i=1}^{n}(x_i-\\bar{x})(y_i-\\bar{y})$$\n",
    "\n",
    "$$\\bar{y} = \\frac{1}{n}\\sum_{i=1}^{n}y_i$$\n",
    "\n",
    "$$\\theta_1=\\frac{cov_{x,y}}{\\sigma^2}$$\n",
    "\n",
    "$$\\theta_0 = \\bar{y} - \\theta_1\\bar{x}$$"
   ]
  },
  {
   "cell_type": "markdown",
   "metadata": {},
   "source": [
    "## Measuring accuracy\n",
    "\n",
    "$$Error = \\frac{1}{n}\\sum_{j=1}^{n}\\mid y_j-\\hat{y}_j\\mid$$\n",
    "\n",
    "We need to keep in mind that getting error minimized on training dataset does not guarantee that model works well. Overfitted models perform well on the training set. Proper testing would be to test against unseen data and to see if the error is minimum.\n",
    "\n",
    "**Overfit** means that model is too overly trained which may capture noise. In this case, it performs well on training data, but it is not generalised well. Simply saying overfit is bad.\n",
    "\n",
    "Some useful technique: \n",
    "<img src=\"img2.png\"/>"
   ]
  },
  {
   "cell_type": "markdown",
   "metadata": {},
   "source": [
    "## Practice"
   ]
  },
  {
   "cell_type": "code",
   "execution_count": 1,
   "metadata": {},
   "outputs": [],
   "source": [
    "# import libs\n",
    "import pandas as pd\n",
    "import numpy as np\n",
    "import seaborn as sns\n",
    "import matplotlib.pyplot as plt"
   ]
  },
  {
   "cell_type": "code",
   "execution_count": 2,
   "metadata": {},
   "outputs": [
    {
     "data": {
      "text/html": [
       "<div>\n",
       "<style scoped>\n",
       "    .dataframe tbody tr th:only-of-type {\n",
       "        vertical-align: middle;\n",
       "    }\n",
       "\n",
       "    .dataframe tbody tr th {\n",
       "        vertical-align: top;\n",
       "    }\n",
       "\n",
       "    .dataframe thead th {\n",
       "        text-align: right;\n",
       "    }\n",
       "</style>\n",
       "<table border=\"1\" class=\"dataframe\">\n",
       "  <thead>\n",
       "    <tr style=\"text-align: right;\">\n",
       "      <th></th>\n",
       "      <th>temp</th>\n",
       "      <th>output</th>\n",
       "    </tr>\n",
       "  </thead>\n",
       "  <tbody>\n",
       "    <tr>\n",
       "      <th>0</th>\n",
       "      <td>29.706808</td>\n",
       "      <td>160.534042</td>\n",
       "    </tr>\n",
       "    <tr>\n",
       "      <th>1</th>\n",
       "      <td>32.338825</td>\n",
       "      <td>183.694123</td>\n",
       "    </tr>\n",
       "    <tr>\n",
       "      <th>2</th>\n",
       "      <td>26.632525</td>\n",
       "      <td>149.162624</td>\n",
       "    </tr>\n",
       "    <tr>\n",
       "      <th>3</th>\n",
       "      <td>28.675484</td>\n",
       "      <td>166.377421</td>\n",
       "    </tr>\n",
       "    <tr>\n",
       "      <th>4</th>\n",
       "      <td>37.447685</td>\n",
       "      <td>211.238427</td>\n",
       "    </tr>\n",
       "  </tbody>\n",
       "</table>\n",
       "</div>"
      ],
      "text/plain": [
       "        temp      output\n",
       "0  29.706808  160.534042\n",
       "1  32.338825  183.694123\n",
       "2  26.632525  149.162624\n",
       "3  28.675484  166.377421\n",
       "4  37.447685  211.238427"
      ]
     },
     "execution_count": 2,
     "metadata": {},
     "output_type": "execute_result"
    }
   ],
   "source": [
    "data = pd.read_csv(\"1-dataset.csv\")\n",
    "data.head()"
   ]
  },
  {
   "cell_type": "code",
   "execution_count": 3,
   "metadata": {},
   "outputs": [
    {
     "data": {
      "text/plain": [
       "[<matplotlib.lines.Line2D at 0x7f9949c924a8>]"
      ]
     },
     "execution_count": 3,
     "metadata": {},
     "output_type": "execute_result"
    },
    {
     "data": {
      "image/png": "[encoded data removed]",
      "text/plain": [
       "<Figure size 432x288 with 1 Axes>"
      ]
     },
     "metadata": {},
     "output_type": "display_data"
    }
   ],
   "source": [
    "plt.plot(data[\"temp\"], data[\"output\"], 'o')"
   ]
  },
  {
   "cell_type": "code",
   "execution_count": 4,
   "metadata": {},
   "outputs": [],
   "source": [
    "def mean(A):\n",
    "    n = len(A)\n",
    "    S = 0;\n",
    "    for x in A:\n",
    "        S = S+x\n",
    "    return S/n\n",
    "\n",
    "def variance(A):\n",
    "    x = A\n",
    "    n=len(x)\n",
    "    S = 0\n",
    "    m = mean(A)\n",
    "    for xi in x:\n",
    "        S=S+(xi-m)**2\n",
    "    return S/(n-1)\n",
    "\n",
    "def covariance(A,B):\n",
    "    x=A\n",
    "    y=B\n",
    "    n=len(x)\n",
    "    S=0\n",
    "    meanX = mean(x)\n",
    "    meanY = mean(y)\n",
    "    for i in range(0,n):\n",
    "        S=S+(x[i]-meanX)*(y[i]-meanY)\n",
    "    return S/(n-1)"
   ]
  },
  {
   "cell_type": "code",
   "execution_count": 6,
   "metadata": {},
   "outputs": [],
   "source": [
    "w = covariance(data[\"temp\"], data[\"output\"])/variance(data[\"temp\"])\n",
    "b = mean(data[\"output\"])-w*(mean(data[\"temp\"]))\n",
    "def predict(x):\n",
    "    return b+x*w"
   ]
  },
  {
   "cell_type": "code",
   "execution_count": 9,
   "metadata": {},
   "outputs": [],
   "source": [
    "reg_x = np.array([25,40,20])\n",
    "reg_y = predict(reg_x)"
   ]
  },
  {
   "cell_type": "code",
   "execution_count": 14,
   "metadata": {},
   "outputs": [
    {
     "data": {
      "text/plain": [
       "[<matplotlib.lines.Line2D at 0x7f994977ac88>,\n",
       " <matplotlib.lines.Line2D at 0x7f994977ae48>]"
      ]
     },
     "execution_count": 14,
     "metadata": {},
     "output_type": "execute_result"
    },
    {
     "data": {
      "image/png": "[encoded data removed]",
      "text/plain": [
       "<Figure size 432x288 with 1 Axes>"
      ]
     },
     "metadata": {},
     "output_type": "display_data"
    }
   ],
   "source": [
    "plt.plot(data[\"temp\"], data[\"output\"], 'o', reg_x, reg_y, '-b')"
   ]
  },
  {
   "cell_type": "markdown",
   "metadata": {},
   "source": [
    "Test with Seaborn"
   ]
  },
  {
   "cell_type": "code",
   "execution_count": 11,
   "metadata": {},
   "outputs": [
    {
     "name": "stderr",
     "output_type": "stream",
     "text": [
      "/home/adil/dev/nlpcorpus/nlp-env/lib/python3.6/site-packages/scipy/stats/stats.py:1713: FutureWarning: Using a non-tuple sequence for multidimensional indexing is deprecated; use `arr[tuple(seq)]` instead of `arr[seq]`. In the future this will be interpreted as an array index, `arr[np.array(seq)]`, which will result either in an error or a different result.\n",
      "  return np.add.reduce(sorted[indexer] * weights, axis=axis) / sumval\n"
     ]
    },
    {
     "data": {
      "image/png": "[encoded data removed]",
      "text/plain": [
       "<Figure size 432x288 with 1 Axes>"
      ]
     },
     "metadata": {},
     "output_type": "display_data"
    }
   ],
   "source": [
    "sns.regplot(x=data[\"temp\"], y=data[\"output\"]);"
   ]
  },
  {
   "cell_type": "code",
   "execution_count": null,
   "metadata": {},
   "outputs": [],
   "source": []
  }
 ],
 "metadata": {
  "kernelspec": {
   "display_name": "Python 3",
   "language": "python",
   "name": "python3"
  },
  "language_info": {
   "codemirror_mode": {
    "name": "ipython",
    "version": 3
   },
   "file_extension": ".py",
   "mimetype": "text/x-python",
   "name": "python",
   "nbconvert_exporter": "python",
   "pygments_lexer": "ipython3",
   "version": "3.6.5"
  }
 },
 "nbformat": 4,
 "nbformat_minor": 2
}
