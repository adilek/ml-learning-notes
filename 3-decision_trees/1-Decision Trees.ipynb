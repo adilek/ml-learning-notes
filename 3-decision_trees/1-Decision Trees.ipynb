{
 "cells": [
  {
   "cell_type": "markdown",
   "metadata": {},
   "source": [
    "# Decision Trees"
   ]
  },
  {
   "cell_type": "markdown",
   "metadata": {},
   "source": [
    "The idea of building Decision Tree is to divide the data into groups with lower entropy. \n",
    "\n",
    "**Entropy** is a measure of randomness or uncertainity. The lower the Entropy, the less uniform the distribution, the purer the node.\n",
    "\n",
    "Entropy:\n",
    "$$E = -p(A) \\times log(p(A)) - p(B) \\times log(p(B))$$\n",
    "\n",
    "**Information gain** is the information that can increase the level of certainity after splitting.\n",
    "\n",
    "Information Gain:\n",
    "\n",
    "$$IG = E_{before} - WE_{after} = E_{before} - (W_1\\times E_{node1} + W_2\\times E_{node2} )$$"
   ]
  },
  {
   "cell_type": "code",
   "execution_count": null,
   "metadata": {},
   "outputs": [],
   "source": []
  }
 ],
 "metadata": {
  "kernelspec": {
   "display_name": "Python 3",
   "language": "python",
   "name": "python3"
  },
  "language_info": {
   "codemirror_mode": {
    "name": "ipython",
    "version": 3
   },
   "file_extension": ".py",
   "mimetype": "text/x-python",
   "name": "python",
   "nbconvert_exporter": "python",
   "pygments_lexer": "ipython3",
   "version": "3.6.5"
  }
 },
 "nbformat": 4,
 "nbformat_minor": 2
}
